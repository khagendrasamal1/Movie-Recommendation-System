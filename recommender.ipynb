{
 "cells": [
  {
   "cell_type": "code",
   "execution_count": 1,
   "id": "441caae4",
   "metadata": {},
   "outputs": [],
   "source": [
    "import pandas as pd\n",
    "from sklearn.feature_extraction.text import TfidfVectorizer\n",
    "from sklearn.neighbors import NearestNeighbors\n",
    "import pickle"
   ]
  },
  {
   "cell_type": "code",
   "execution_count": 2,
   "id": "c1ae81a8",
   "metadata": {},
   "outputs": [],
   "source": [
    "# Load the dataset\n",
    "dataset = pd.read_csv('dataset.csv')"
   ]
  },
  {
   "cell_type": "code",
   "execution_count": 3,
   "id": "eec4f94f",
   "metadata": {},
   "outputs": [],
   "source": [
    "# Step 1: Data Preprocessing\n",
    "# Fill missing values in 'overview' and 'genre'\n",
    "dataset['overview'] = dataset['overview'].fillna('')\n",
    "dataset['genre'] = dataset['genre'].fillna('')"
   ]
  },
  {
   "cell_type": "code",
   "execution_count": 4,
   "id": "ef76521b",
   "metadata": {},
   "outputs": [],
   "source": [
    "# Step 2: TF-IDF Vectorization for 'overview' (movie descriptions)\n",
    "# Limit the number of features to 3000 to keep it memory efficient\n",
    "tfidf = TfidfVectorizer(stop_words='english', max_features=3000)\n",
    "tfidf_matrix = tfidf.fit_transform(dataset['overview'])"
   ]
  },
  {
   "cell_type": "code",
   "execution_count": 5,
   "id": "7f576c88",
   "metadata": {},
   "outputs": [],
   "source": [
    "# Step 3: Approximate Nearest Neighbors (ANN)\n",
    "# Use ANN to efficiently find similar movies without computing full similarity matrix\n",
    "n_neighbors = 10  # Number of neighbors to consider for each movie\n",
    "knn = NearestNeighbors(metric='cosine', algorithm='brute', n_neighbors=n_neighbors)\n"
   ]
  },
  {
   "cell_type": "code",
   "execution_count": 6,
   "id": "34085715",
   "metadata": {},
   "outputs": [
    {
     "data": {
      "text/html": [
       "<style>#sk-container-id-1 {color: black;background-color: white;}#sk-container-id-1 pre{padding: 0;}#sk-container-id-1 div.sk-toggleable {background-color: white;}#sk-container-id-1 label.sk-toggleable__label {cursor: pointer;display: block;width: 100%;margin-bottom: 0;padding: 0.3em;box-sizing: border-box;text-align: center;}#sk-container-id-1 label.sk-toggleable__label-arrow:before {content: \"▸\";float: left;margin-right: 0.25em;color: #696969;}#sk-container-id-1 label.sk-toggleable__label-arrow:hover:before {color: black;}#sk-container-id-1 div.sk-estimator:hover label.sk-toggleable__label-arrow:before {color: black;}#sk-container-id-1 div.sk-toggleable__content {max-height: 0;max-width: 0;overflow: hidden;text-align: left;background-color: #f0f8ff;}#sk-container-id-1 div.sk-toggleable__content pre {margin: 0.2em;color: black;border-radius: 0.25em;background-color: #f0f8ff;}#sk-container-id-1 input.sk-toggleable__control:checked~div.sk-toggleable__content {max-height: 200px;max-width: 100%;overflow: auto;}#sk-container-id-1 input.sk-toggleable__control:checked~label.sk-toggleable__label-arrow:before {content: \"▾\";}#sk-container-id-1 div.sk-estimator input.sk-toggleable__control:checked~label.sk-toggleable__label {background-color: #d4ebff;}#sk-container-id-1 div.sk-label input.sk-toggleable__control:checked~label.sk-toggleable__label {background-color: #d4ebff;}#sk-container-id-1 input.sk-hidden--visually {border: 0;clip: rect(1px 1px 1px 1px);clip: rect(1px, 1px, 1px, 1px);height: 1px;margin: -1px;overflow: hidden;padding: 0;position: absolute;width: 1px;}#sk-container-id-1 div.sk-estimator {font-family: monospace;background-color: #f0f8ff;border: 1px dotted black;border-radius: 0.25em;box-sizing: border-box;margin-bottom: 0.5em;}#sk-container-id-1 div.sk-estimator:hover {background-color: #d4ebff;}#sk-container-id-1 div.sk-parallel-item::after {content: \"\";width: 100%;border-bottom: 1px solid gray;flex-grow: 1;}#sk-container-id-1 div.sk-label:hover label.sk-toggleable__label {background-color: #d4ebff;}#sk-container-id-1 div.sk-serial::before {content: \"\";position: absolute;border-left: 1px solid gray;box-sizing: border-box;top: 0;bottom: 0;left: 50%;z-index: 0;}#sk-container-id-1 div.sk-serial {display: flex;flex-direction: column;align-items: center;background-color: white;padding-right: 0.2em;padding-left: 0.2em;position: relative;}#sk-container-id-1 div.sk-item {position: relative;z-index: 1;}#sk-container-id-1 div.sk-parallel {display: flex;align-items: stretch;justify-content: center;background-color: white;position: relative;}#sk-container-id-1 div.sk-item::before, #sk-container-id-1 div.sk-parallel-item::before {content: \"\";position: absolute;border-left: 1px solid gray;box-sizing: border-box;top: 0;bottom: 0;left: 50%;z-index: -1;}#sk-container-id-1 div.sk-parallel-item {display: flex;flex-direction: column;z-index: 1;position: relative;background-color: white;}#sk-container-id-1 div.sk-parallel-item:first-child::after {align-self: flex-end;width: 50%;}#sk-container-id-1 div.sk-parallel-item:last-child::after {align-self: flex-start;width: 50%;}#sk-container-id-1 div.sk-parallel-item:only-child::after {width: 0;}#sk-container-id-1 div.sk-dashed-wrapped {border: 1px dashed gray;margin: 0 0.4em 0.5em 0.4em;box-sizing: border-box;padding-bottom: 0.4em;background-color: white;}#sk-container-id-1 div.sk-label label {font-family: monospace;font-weight: bold;display: inline-block;line-height: 1.2em;}#sk-container-id-1 div.sk-label-container {text-align: center;}#sk-container-id-1 div.sk-container {/* jupyter's `normalize.less` sets `[hidden] { display: none; }` but bootstrap.min.css set `[hidden] { display: none !important; }` so we also need the `!important` here to be able to override the default hidden behavior on the sphinx rendered scikit-learn.org. See: https://github.com/scikit-learn/scikit-learn/issues/21755 */display: inline-block !important;position: relative;}#sk-container-id-1 div.sk-text-repr-fallback {display: none;}</style><div id=\"sk-container-id-1\" class=\"sk-top-container\"><div class=\"sk-text-repr-fallback\"><pre>NearestNeighbors(algorithm=&#x27;brute&#x27;, metric=&#x27;cosine&#x27;, n_neighbors=10)</pre><b>In a Jupyter environment, please rerun this cell to show the HTML representation or trust the notebook. <br />On GitHub, the HTML representation is unable to render, please try loading this page with nbviewer.org.</b></div><div class=\"sk-container\" hidden><div class=\"sk-item\"><div class=\"sk-estimator sk-toggleable\"><input class=\"sk-toggleable__control sk-hidden--visually\" id=\"sk-estimator-id-1\" type=\"checkbox\" checked><label for=\"sk-estimator-id-1\" class=\"sk-toggleable__label sk-toggleable__label-arrow\">NearestNeighbors</label><div class=\"sk-toggleable__content\"><pre>NearestNeighbors(algorithm=&#x27;brute&#x27;, metric=&#x27;cosine&#x27;, n_neighbors=10)</pre></div></div></div></div></div>"
      ],
      "text/plain": [
       "NearestNeighbors(algorithm='brute', metric='cosine', n_neighbors=10)"
      ]
     },
     "execution_count": 6,
     "metadata": {},
     "output_type": "execute_result"
    }
   ],
   "source": [
    "# Fit the KNN model on the TF-IDF matrix\n",
    "knn.fit(tfidf_matrix)"
   ]
  },
  {
   "cell_type": "code",
   "execution_count": 7,
   "id": "3e264857",
   "metadata": {},
   "outputs": [],
   "source": [
    "# Step 4: Save the KNN model and dataset details for later recommendation\n",
    "model_data = {\n",
    "    'knn_model': knn,  # KNN model to find nearest neighbors\n",
    "    'movie_titles': dataset['title'],  # Movie titles for reference\n",
    "    'tfidf_matrix': tfidf_matrix,  # Store the TF-IDF matrix for querying\n",
    "    'indices': pd.Series(dataset.index, index=dataset['title']).to_dict()  # Mapping of titles to indices\n",
    "}"
   ]
  },
  {
   "cell_type": "code",
   "execution_count": 8,
   "id": "4c8be556",
   "metadata": {},
   "outputs": [],
   "source": [
    "# Step 5: Save the model to a pickle file\n",
    "with open('movie_recommendation_knn_model.pkl', 'wb') as f:\n",
    "    pickle.dump(model_data, f, protocol=pickle.HIGHEST_PROTOCOL)"
   ]
  },
  {
   "cell_type": "code",
   "execution_count": 9,
   "id": "f6d48822",
   "metadata": {},
   "outputs": [
    {
     "name": "stdout",
     "output_type": "stream",
     "text": [
      "Model has been saved as 'movie_recommendation_knn_model.pkl'.\n"
     ]
    }
   ],
   "source": [
    "print(\"Model has been saved as 'movie_recommendation_knn_model.pkl'.\")"
   ]
  },
  {
   "cell_type": "code",
   "execution_count": 10,
   "id": "50fd769c",
   "metadata": {},
   "outputs": [],
   "source": [
    "def get_recommendations(title, model_data, n_recommendations=5):\n",
    "    \"\"\"\n",
    "    Get movie recommendations based on a given movie title, case-insensitive.\n",
    "    \n",
    "    Parameters:\n",
    "    - title (str): The title of the movie to base the recommendations on.\n",
    "    - model_data (dict): Dictionary containing the trained KNN model, TF-IDF matrix, and movie information.\n",
    "    - n_recommendations (int): Number of movie recommendations to return.\n",
    "    \n",
    "    Returns:\n",
    "    - list: List of recommended movie titles.\n",
    "    \"\"\"\n",
    "    # Extract the data from the saved model\n",
    "    knn = model_data['knn_model']\n",
    "    movie_titles = model_data['movie_titles']\n",
    "    tfidf_matrix = model_data['tfidf_matrix']\n",
    "    indices = model_data['indices']\n",
    "\n",
    "    # Convert the input title to lowercase\n",
    "    title = title.lower()\n",
    "\n",
    "    # Convert all movie titles in the dataset to lowercase for case-insensitive matching\n",
    "    indices_lower = {k.lower(): v for k, v in indices.items()}\n",
    "\n",
    "    # Check if the title exists in the dataset (case-insensitive)\n",
    "    if title not in indices_lower:\n",
    "        return \"Movie not found in the dataset.\"\n",
    "\n",
    "    # Get the index of the movie in the dataset\n",
    "    idx = indices_lower[title]\n",
    "\n",
    "    # Query the KNN model to find similar movies\n",
    "    distances, indices = knn.kneighbors(tfidf_matrix[idx], n_neighbors=n_recommendations+1)\n",
    "\n",
    "    # Get the recommended movie titles (excluding the first one, which is the original movie)\n",
    "    recommended_movies = [movie_titles.iloc[i] for i in indices.flatten()[1:]]\n",
    "\n",
    "    return recommended_movies"
   ]
  },
  {
   "cell_type": "code",
   "execution_count": 11,
   "id": "06596245",
   "metadata": {},
   "outputs": [],
   "source": [
    "# Load the model and test the recommendation system\n",
    "with open('movie_recommendation_knn_model.pkl', 'rb') as f:\n",
    "    loaded_model = pickle.load(f)"
   ]
  },
  {
   "cell_type": "code",
   "execution_count": 15,
   "id": "9e8bce85",
   "metadata": {},
   "outputs": [
    {
     "name": "stdout",
     "output_type": "stream",
     "text": [
      "Recommended Movies: ['Shaft', 'Berserk: The Golden Age Arc III - The Advent', '6 Bullets', '4 Months, 3 Weeks and 2 Days', 'Escape Plan: The Extractors']\n"
     ]
    }
   ],
   "source": [
    "# Example usage\n",
    "recommended_movies = get_recommendations('extraction', loaded_model, n_recommendations=5)\n",
    "print(\"Recommended Movies:\", recommended_movies)"
   ]
  },
  {
   "cell_type": "code",
   "execution_count": null,
   "id": "1cd3c3fb",
   "metadata": {},
   "outputs": [],
   "source": []
  }
 ],
 "metadata": {
  "kernelspec": {
   "display_name": "Python 3 (ipykernel)",
   "language": "python",
   "name": "python3"
  },
  "language_info": {
   "codemirror_mode": {
    "name": "ipython",
    "version": 3
   },
   "file_extension": ".py",
   "mimetype": "text/x-python",
   "name": "python",
   "nbconvert_exporter": "python",
   "pygments_lexer": "ipython3",
   "version": "3.10.9"
  }
 },
 "nbformat": 4,
 "nbformat_minor": 5
}
